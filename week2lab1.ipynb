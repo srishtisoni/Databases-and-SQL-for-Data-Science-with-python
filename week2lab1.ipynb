{
 "cells": [
  {
   "cell_type": "code",
   "execution_count": 1,
   "id": "7d431738-6e69-4255-9a7f-2d4eb132f9f6",
   "metadata": {},
   "outputs": [],
   "source": [
    "import ibm_db"
   ]
  },
  {
   "cell_type": "code",
   "execution_count": 2,
   "id": "02d3aed0-6a55-4fdd-8b19-a4f87c6d3c39",
   "metadata": {},
   "outputs": [],
   "source": [
    "dsn_hostname = \"dashdb-txn-sbox-yp-lon02-02.services.eu-gb.bluemix.net\" # e.g.: \"dashdb-txn-sbox-yp-dal09-04.services.dal.bluemix.net\"\n",
    "dsn_uid = \"mxl88226\"        # e.g. \"abc12345\"\n",
    "dsn_pwd = \"ncm+1bzvxn4fljb3\"      # e.g. \"7dBZ3wWt9XN6$o0J\"\n",
    "\n",
    "dsn_driver = \"{IBM DB2 ODBC DRIVER}\"\n",
    "dsn_database = \"BLUDB\"            # e.g. \"BLUDB\"\n",
    "dsn_port = \"50000\"                # e.g. \"50000\" \n",
    "dsn_protocol = \"TCPIP\""
   ]
  },
  {
   "cell_type": "code",
   "execution_count": 3,
   "id": "baca9bd9-10bf-4f69-b1f3-c40248cd3fde",
   "metadata": {},
   "outputs": [
    {
     "name": "stdout",
     "output_type": "stream",
     "text": [
      "DRIVER={IBM DB2 ODBC DRIVER};DATABASE=BLUDB;HOSTNAME=dashdb-txn-sbox-yp-lon02-02.services.eu-gb.bluemix.net;PORT=50000;PROTOCOL=TCPIP;UID=mxl88226;PWD=ncm+1bzvxn4fljb3;\n"
     ]
    }
   ],
   "source": [
    "dsn = (\n",
    "    \"DRIVER={0};\"\n",
    "    \"DATABASE={1};\"\n",
    "    \"HOSTNAME={2};\"\n",
    "    \"PORT={3};\"\n",
    "    \"PROTOCOL={4};\"\n",
    "    \"UID={5};\"\n",
    "    \"PWD={6};\").format(dsn_driver, dsn_database, dsn_hostname, dsn_port, dsn_protocol, dsn_uid, dsn_pwd)\n",
    "\n",
    "#print the connection string to check correct values are specified\n",
    "print(dsn)"
   ]
  },
  {
   "cell_type": "code",
   "execution_count": 4,
   "id": "de2d3685-7601-4164-85d2-db06f968f1b8",
   "metadata": {},
   "outputs": [
    {
     "name": "stdout",
     "output_type": "stream",
     "text": [
      "Connected to database:  BLUDB as user:  mxl88226 on host:  dashdb-txn-sbox-yp-lon02-02.services.eu-gb.bluemix.net\n"
     ]
    }
   ],
   "source": [
    "try:\n",
    "    conn = ibm_db.connect(dsn, \"\", \"\")\n",
    "    print (\"Connected to database: \", dsn_database, \"as user: \", dsn_uid, \"on host: \", dsn_hostname)\n",
    "\n",
    "except:\n",
    "    print (\"Unable to connect: \", ibm_db.conn_errormsg() )\n"
   ]
  },
  {
   "cell_type": "code",
   "execution_count": 7,
   "id": "f14cf45e-6c18-4d2c-91cd-c63b466f78ff",
   "metadata": {},
   "outputs": [],
   "source": [
    "createQuery = \"create table INSTRUCTOR1( I_id INTEGER PRIMARY KEY NOT NULL,  F_NAME VARCHAR(20), L_NAME VARCHAR(20), CITY VARCHAR(20), CCODE CHAR(2))\"\n",
    "\n",
    "#Now fill in the name of the method and execute the statement\n",
    "createStmt = ibm_db.exec_immediate(conn, createQuery)"
   ]
  },
  {
   "cell_type": "code",
   "execution_count": 9,
   "id": "5b1c7dd6-ad73-4c15-9f86-7732deea4649",
   "metadata": {},
   "outputs": [],
   "source": [
    "insertQuery = \"insert into INSTRUCTOR1 values (1, 'Rav', 'Ahuja', 'TORONTO', 'CA'),(2,'Rahul','Chong','Markham','CA'),(3,'Hima','Vasudevan','Chicago','US');\"\n",
    "\n",
    "insertStmt = ibm_db.exec_immediate(conn, insertQuery)"
   ]
  },
  {
   "cell_type": "code",
   "execution_count": 10,
   "id": "e12afd57-0c08-4a12-be7c-78cef2d337fe",
   "metadata": {},
   "outputs": [],
   "source": [
    "selectQuery= \"Select * from INSTRUCTOR1\";\n",
    "selectStmt= ibm_db.exec_immediate(conn,selectQuery)"
   ]
  },
  {
   "cell_type": "code",
   "execution_count": 14,
   "id": "15a0423f-fcfc-42ee-a675-e4b6d6492221",
   "metadata": {},
   "outputs": [
    {
     "data": {
      "text/plain": [
       "{'I_ID': 1,\n",
       " 0: 1,\n",
       " 'F_NAME': 'Rav',\n",
       " 1: 'Rav',\n",
       " 'L_NAME': 'Ahuja',\n",
       " 2: 'Ahuja',\n",
       " 'CITY': 'TORONTO',\n",
       " 3: 'TORONTO',\n",
       " 'CCODE': 'CA',\n",
       " 4: 'CA'}"
      ]
     },
     "execution_count": 14,
     "metadata": {},
     "output_type": "execute_result"
    }
   ],
   "source": [
    "ibm_db.fetch_both(selectStmt)"
   ]
  },
  {
   "cell_type": "code",
   "execution_count": 21,
   "id": "8b0233a6-0d3e-49e9-8d16-524d7f1eb5e4",
   "metadata": {},
   "outputs": [],
   "source": [
    "while ibm_db.fetch_row(selectStmt) != False:\n",
    "    print (\" ID:\",  ibm_db.result(selectStmt, 0), \" FNAME:\",  ibm_db.result(selectStmt,\"F_NAME\"))"
   ]
  },
  {
   "cell_type": "code",
   "execution_count": 22,
   "id": "fec1918f-b2d4-454f-bb09-37b66c30be88",
   "metadata": {},
   "outputs": [],
   "source": [
    "while ibm_db.fetch_row(selectStmt) != False:\n",
    "    print (\" ID:\",  ibm_db.result(selectStmt, 0), \" FNAME:\",  ibm_db.result(selectStmt,\"F_NAME\"))"
   ]
  },
  {
   "cell_type": "code",
   "execution_count": 23,
   "id": "6f3cd074-a681-4c17-b9ff-406167fa7a6d",
   "metadata": {},
   "outputs": [],
   "source": [
    "while ibm_db.fetch_row(selectStmt) != False:\n",
    "    print (\" ID:\",  ibm_db.result(selectStmt, 0), \" FNAME:\",  ibm_db.result(selectStmt,\"F_NAME\"))"
   ]
  },
  {
   "cell_type": "code",
   "execution_count": 24,
   "id": "83c15334-bb2d-43f9-8d2f-aec10bc75682",
   "metadata": {},
   "outputs": [],
   "source": [
    "updateQuery = \"Update Instructor1 set CITY='MOOSETOWN' where F_NAME='RAV'\"\n",
    "updateStmt= ibm_db.exec_immediate(conn,updateQuery)\n"
   ]
  },
  {
   "cell_type": "code",
   "execution_count": 25,
   "id": "3093b447-5a53-45c3-b39f-5186d1ed38f8",
   "metadata": {},
   "outputs": [],
   "source": [
    "selectQuery= \"Select * from INSTRUCTOR1\";\n",
    "selectStmt= ibm_db.exec_immediate(conn,selectQuery)"
   ]
  },
  {
   "cell_type": "code",
   "execution_count": 26,
   "id": "9bb0c388-0fdb-40b4-9ca2-cb1548ffcd57",
   "metadata": {},
   "outputs": [
    {
     "data": {
      "text/plain": [
       "{'I_ID': 1,\n",
       " 0: 1,\n",
       " 'F_NAME': 'Rav',\n",
       " 1: 'Rav',\n",
       " 'L_NAME': 'Ahuja',\n",
       " 2: 'Ahuja',\n",
       " 'CITY': 'TORONTO',\n",
       " 3: 'TORONTO',\n",
       " 'CCODE': 'CA',\n",
       " 4: 'CA'}"
      ]
     },
     "execution_count": 26,
     "metadata": {},
     "output_type": "execute_result"
    }
   ],
   "source": [
    "ibm_db.fetch_both(selectStmt)"
   ]
  },
  {
   "cell_type": "code",
   "execution_count": 29,
   "id": "f15062db-2528-4ebb-8917-4d4b3cfd36f7",
   "metadata": {},
   "outputs": [],
   "source": [
    "updateQuery = \"Update Instructor1 set CITY='MOOSETOWN' where F_NAME='RAV' \"\n",
    "updateStmt= ibm_db.exec_immediate(conn,updateQuery)"
   ]
  },
  {
   "cell_type": "code",
   "execution_count": 30,
   "id": "a39ea269-ecf5-4409-b8fd-44e472ab1931",
   "metadata": {},
   "outputs": [],
   "source": [
    "selectQuery= \"Select * from INSTRUCTOR1\";\n",
    "selectStmt= ibm_db.exec_immediate(conn,selectQuery)"
   ]
  },
  {
   "cell_type": "code",
   "execution_count": 31,
   "id": "ce22f866-8da5-4965-80b6-5a57de366595",
   "metadata": {},
   "outputs": [
    {
     "data": {
      "text/plain": [
       "True"
      ]
     },
     "execution_count": 31,
     "metadata": {},
     "output_type": "execute_result"
    }
   ],
   "source": [
    "ibm_db.fetch_row(selectStmt)"
   ]
  },
  {
   "cell_type": "code",
   "execution_count": 32,
   "id": "60c56ded-130e-4a78-abf1-68a2a1150904",
   "metadata": {},
   "outputs": [
    {
     "data": {
      "text/plain": [
       "{'I_ID': 2,\n",
       " 0: 2,\n",
       " 'F_NAME': 'Rahul',\n",
       " 1: 'Rahul',\n",
       " 'L_NAME': 'Chong',\n",
       " 2: 'Chong',\n",
       " 'CITY': 'Markham',\n",
       " 3: 'Markham',\n",
       " 'CCODE': 'CA',\n",
       " 4: 'CA'}"
      ]
     },
     "execution_count": 32,
     "metadata": {},
     "output_type": "execute_result"
    }
   ],
   "source": [
    "ibm_db.fetch_both(selectStmt)"
   ]
  },
  {
   "cell_type": "code",
   "execution_count": 33,
   "id": "899abf9c-006e-40ae-93b8-664ee23c5fa8",
   "metadata": {},
   "outputs": [
    {
     "data": {
      "text/plain": [
       "{'I_ID': 3,\n",
       " 0: 3,\n",
       " 'F_NAME': 'Hima',\n",
       " 1: 'Hima',\n",
       " 'L_NAME': 'Vasudevan',\n",
       " 2: 'Vasudevan',\n",
       " 'CITY': 'Chicago',\n",
       " 3: 'Chicago',\n",
       " 'CCODE': 'US',\n",
       " 4: 'US'}"
      ]
     },
     "execution_count": 33,
     "metadata": {},
     "output_type": "execute_result"
    }
   ],
   "source": [
    "ibm_db.fetch_both(selectStmt)"
   ]
  },
  {
   "cell_type": "code",
   "execution_count": 34,
   "id": "bcd4cea7-95b6-4fd6-b4a6-b9bd68fce104",
   "metadata": {},
   "outputs": [
    {
     "data": {
      "text/plain": [
       "False"
      ]
     },
     "execution_count": 34,
     "metadata": {},
     "output_type": "execute_result"
    }
   ],
   "source": [
    "ibm_db.fetch_both(selectStmt)"
   ]
  },
  {
   "cell_type": "code",
   "execution_count": 35,
   "id": "0b948434-9386-47a1-a99c-395d855bb114",
   "metadata": {},
   "outputs": [],
   "source": [
    "selectQuery= \"Select * from INSTRUCTOR1\";\n",
    "selectStmt= ibm_db.exec_immediate(conn,selectQuery)"
   ]
  },
  {
   "cell_type": "code",
   "execution_count": 36,
   "id": "9bbc5d80-b257-4be2-b304-3b441234bfbf",
   "metadata": {},
   "outputs": [
    {
     "data": {
      "text/plain": [
       "{'I_ID': 1,\n",
       " 0: 1,\n",
       " 'F_NAME': 'Rav',\n",
       " 1: 'Rav',\n",
       " 'L_NAME': 'Ahuja',\n",
       " 2: 'Ahuja',\n",
       " 'CITY': 'TORONTO',\n",
       " 3: 'TORONTO',\n",
       " 'CCODE': 'CA',\n",
       " 4: 'CA'}"
      ]
     },
     "execution_count": 36,
     "metadata": {},
     "output_type": "execute_result"
    }
   ],
   "source": [
    "ibm_db.fetch_both(selectStmt)"
   ]
  },
  {
   "cell_type": "code",
   "execution_count": 37,
   "id": "b8698aea-75e3-4bb1-b39c-f3f85773e0eb",
   "metadata": {},
   "outputs": [],
   "source": [
    "import pandas\n",
    "import ibm_db_dbi"
   ]
  },
  {
   "cell_type": "code",
   "execution_count": 38,
   "id": "37d00e96-bdd2-4fe4-a349-a2990a5b52b8",
   "metadata": {},
   "outputs": [],
   "source": [
    "pconn = ibm_db_dbi.Connection(conn)"
   ]
  },
  {
   "cell_type": "code",
   "execution_count": 40,
   "id": "0a688dff-5c6c-4211-9b01-35d9cdc3b3ff",
   "metadata": {},
   "outputs": [
    {
     "data": {
      "text/plain": [
       "'Ahuja'"
      ]
     },
     "execution_count": 40,
     "metadata": {},
     "output_type": "execute_result"
    }
   ],
   "source": [
    "selectQuery = \"select * from INSTRUCTOR1\"\n",
    "\n",
    "#retrieve the query results into a pandas dataframe\n",
    "pdf = pandas.read_sql(selectQuery, pconn)\n",
    "\n",
    "#print just the LNAME for first row in the pandas data frame\n",
    "pdf.L_NAME[0]"
   ]
  },
  {
   "cell_type": "code",
   "execution_count": 41,
   "id": "10715f39-36be-49e0-8518-3da8bd68f32c",
   "metadata": {},
   "outputs": [
    {
     "data": {
      "text/html": [
       "<div>\n",
       "<style scoped>\n",
       "    .dataframe tbody tr th:only-of-type {\n",
       "        vertical-align: middle;\n",
       "    }\n",
       "\n",
       "    .dataframe tbody tr th {\n",
       "        vertical-align: top;\n",
       "    }\n",
       "\n",
       "    .dataframe thead th {\n",
       "        text-align: right;\n",
       "    }\n",
       "</style>\n",
       "<table border=\"1\" class=\"dataframe\">\n",
       "  <thead>\n",
       "    <tr style=\"text-align: right;\">\n",
       "      <th></th>\n",
       "      <th>I_ID</th>\n",
       "      <th>F_NAME</th>\n",
       "      <th>L_NAME</th>\n",
       "      <th>CITY</th>\n",
       "      <th>CCODE</th>\n",
       "    </tr>\n",
       "  </thead>\n",
       "  <tbody>\n",
       "    <tr>\n",
       "      <th>0</th>\n",
       "      <td>1</td>\n",
       "      <td>Rav</td>\n",
       "      <td>Ahuja</td>\n",
       "      <td>TORONTO</td>\n",
       "      <td>CA</td>\n",
       "    </tr>\n",
       "    <tr>\n",
       "      <th>1</th>\n",
       "      <td>2</td>\n",
       "      <td>Rahul</td>\n",
       "      <td>Chong</td>\n",
       "      <td>Markham</td>\n",
       "      <td>CA</td>\n",
       "    </tr>\n",
       "    <tr>\n",
       "      <th>2</th>\n",
       "      <td>3</td>\n",
       "      <td>Hima</td>\n",
       "      <td>Vasudevan</td>\n",
       "      <td>Chicago</td>\n",
       "      <td>US</td>\n",
       "    </tr>\n",
       "  </tbody>\n",
       "</table>\n",
       "</div>"
      ],
      "text/plain": [
       "   I_ID F_NAME     L_NAME     CITY CCODE\n",
       "0     1    Rav      Ahuja  TORONTO    CA\n",
       "1     2  Rahul      Chong  Markham    CA\n",
       "2     3   Hima  Vasudevan  Chicago    US"
      ]
     },
     "execution_count": 41,
     "metadata": {},
     "output_type": "execute_result"
    }
   ],
   "source": [
    "pdf"
   ]
  },
  {
   "cell_type": "code",
   "execution_count": 42,
   "id": "758a5b35-29f5-4a1c-9098-4e34b1e8b021",
   "metadata": {},
   "outputs": [
    {
     "data": {
      "text/plain": [
       "True"
      ]
     },
     "execution_count": 42,
     "metadata": {},
     "output_type": "execute_result"
    }
   ],
   "source": [
    "ibm_db.close(conn)"
   ]
  },
  {
   "cell_type": "code",
   "execution_count": null,
   "id": "a92f0582-ae68-4e09-9504-c3d3216d29c1",
   "metadata": {},
   "outputs": [],
   "source": []
  }
 ],
 "metadata": {
  "kernelspec": {
   "display_name": "Python",
   "language": "python",
   "name": "conda-env-python-py"
  },
  "language_info": {
   "codemirror_mode": {
    "name": "ipython",
    "version": 3
   },
   "file_extension": ".py",
   "mimetype": "text/x-python",
   "name": "python",
   "nbconvert_exporter": "python",
   "pygments_lexer": "ipython3",
   "version": "3.6.13"
  }
 },
 "nbformat": 4,
 "nbformat_minor": 5
}
